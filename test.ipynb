{
 "cells": [
  {
   "cell_type": "code",
   "execution_count": 3,
   "metadata": {},
   "outputs": [],
   "source": [
    "import pandas as pd\n",
    "import sqlite3"
   ]
  },
  {
   "cell_type": "code",
   "execution_count": 4,
   "metadata": {},
   "outputs": [],
   "source": [
    "def create_tables_from_excel(excel_file, database_file):\n",
    "    # Connect to SQLite database (or create it if it doesn't exist)\n",
    "    conn = sqlite3.connect(database_file)\n",
    "    cursor = conn.cursor()\n",
    "\n",
    "    # Read the Excel file\n",
    "    excel_data = pd.ExcelFile(excel_file)\n",
    "\n",
    "    # Iterate through each sheet in the Excel file\n",
    "    for sheet_name in excel_data.sheet_names:\n",
    "        # Read the sheet into a DataFrame\n",
    "        df = excel_data.parse(sheet_name)\n",
    "\n",
    "        # Dynamically create a table based on the sheet name and DataFrame columns\n",
    "        columns = \", \".join([f\"{col} TEXT\" for col in df.columns])\n",
    "        create_table_query = f\"CREATE TABLE IF NOT EXISTS {sheet_name} ({columns});\"\n",
    "        cursor.execute(create_table_query)\n",
    "\n",
    "        # Insert data into the table\n",
    "        for _, row in df.iterrows():\n",
    "            placeholders = \", \".join([\"?\" for _ in row])\n",
    "            insert_query = f\"INSERT INTO {sheet_name} VALUES ({placeholders});\"\n",
    "            cursor.execute(insert_query, tuple(row))\n",
    "\n",
    "    # Commit changes and close the connection\n",
    "    conn.commit()\n",
    "    conn.close()"
   ]
  },
  {
   "cell_type": "code",
   "execution_count": 5,
   "metadata": {},
   "outputs": [],
   "source": [
    "x=pd.read_excel('data/food_options.xlsx', sheet_name='breakfast')"
   ]
  },
  {
   "cell_type": "code",
   "execution_count": 6,
   "metadata": {},
   "outputs": [
    {
     "data": {
      "text/html": [
       "<div>\n",
       "<style scoped>\n",
       "    .dataframe tbody tr th:only-of-type {\n",
       "        vertical-align: middle;\n",
       "    }\n",
       "\n",
       "    .dataframe tbody tr th {\n",
       "        vertical-align: top;\n",
       "    }\n",
       "\n",
       "    .dataframe thead th {\n",
       "        text-align: right;\n",
       "    }\n",
       "</style>\n",
       "<table border=\"1\" class=\"dataframe\">\n",
       "  <thead>\n",
       "    <tr style=\"text-align: right;\">\n",
       "      <th></th>\n",
       "      <th>day</th>\n",
       "      <th>breakfast_option</th>\n",
       "      <th>breakfast_description</th>\n",
       "    </tr>\n",
       "  </thead>\n",
       "  <tbody>\n",
       "    <tr>\n",
       "      <th>0</th>\n",
       "      <td>Monday</td>\n",
       "      <td>besan ka cheela</td>\n",
       "      <td>besan ka cheela</td>\n",
       "    </tr>\n",
       "    <tr>\n",
       "      <th>1</th>\n",
       "      <td>Tuesday</td>\n",
       "      <td>uttapam</td>\n",
       "      <td>uttapam</td>\n",
       "    </tr>\n",
       "    <tr>\n",
       "      <th>2</th>\n",
       "      <td>Wednesday</td>\n",
       "      <td>parantha and sabji</td>\n",
       "      <td>parantha and sabji</td>\n",
       "    </tr>\n",
       "    <tr>\n",
       "      <th>3</th>\n",
       "      <td>Thursday</td>\n",
       "      <td>vermicille and boiled egg</td>\n",
       "      <td>vermicille and boiled egg</td>\n",
       "    </tr>\n",
       "    <tr>\n",
       "      <th>4</th>\n",
       "      <td>Friday</td>\n",
       "      <td>egg bhurji and toast</td>\n",
       "      <td>egg bhurji and toast</td>\n",
       "    </tr>\n",
       "  </tbody>\n",
       "</table>\n",
       "</div>"
      ],
      "text/plain": [
       "         day           breakfast_option      breakfast_description\n",
       "0     Monday            besan ka cheela            besan ka cheela\n",
       "1    Tuesday                    uttapam                    uttapam\n",
       "2  Wednesday         parantha and sabji         parantha and sabji\n",
       "3   Thursday  vermicille and boiled egg  vermicille and boiled egg\n",
       "4     Friday       egg bhurji and toast       egg bhurji and toast"
      ]
     },
     "execution_count": 6,
     "metadata": {},
     "output_type": "execute_result"
    }
   ],
   "source": [
    "x.head()"
   ]
  },
  {
   "cell_type": "code",
   "execution_count": 20,
   "metadata": {},
   "outputs": [],
   "source": [
    "\n",
    "# Example usage\n",
    "excel_file = \"data/food_options.xlsx\"  # Path to your Excel file\n",
    "database_file = \"data/fooddb.db\"  # Path to your SQLite database\n",
    "create_tables_from_excel(excel_file, database_file)"
   ]
  },
  {
   "cell_type": "code",
   "execution_count": 23,
   "metadata": {},
   "outputs": [
    {
     "name": "stdout",
     "output_type": "stream",
     "text": [
      "fooddb.db\n"
     ]
    },
    {
     "data": {
      "text/plain": [
       "['breakfast', 'lunch', 'dinner', 'foodmenu_tracker']"
      ]
     },
     "execution_count": 23,
     "metadata": {},
     "output_type": "execute_result"
    }
   ],
   "source": [
    "x=list_databases()\n",
    "print(x[0])\n",
    "list_tables(\"data/fooddb.db\")"
   ]
  },
  {
   "cell_type": "code",
   "execution_count": 25,
   "metadata": {},
   "outputs": [
    {
     "data": {
      "text/plain": [
       "(['day', 'breakfast_option', 'breakfast_description'],\n",
       " [('Monday', 'besan ka cheela', 'besan ka cheela'),\n",
       "  ('Tuesday', 'uttapam', 'uttapam'),\n",
       "  ('Wednesday', 'parantha and sabji', 'parantha and sabji'),\n",
       "  ('Thursday', 'vermicille and boiled egg', 'vermicille and boiled egg'),\n",
       "  ('Friday', 'egg bhurji and toast', 'egg bhurji and toast'),\n",
       "  ('Saturday', 'moong dal cheela', 'moong dal cheela'),\n",
       "  ('Sunday', 'stuff parantha and chutney', 'stuff parantha and chutney')])"
      ]
     },
     "execution_count": 25,
     "metadata": {},
     "output_type": "execute_result"
    }
   ],
   "source": [
    "show_table_content(database_file, 'breakfast')"
   ]
  },
  {
   "cell_type": "code",
   "execution_count": 14,
   "metadata": {},
   "outputs": [],
   "source": [
    "# Code to list all databases in working directory\n",
    "import sqlite3\n",
    "import os\n",
    "def list_databases():\n",
    "    \"\"\"List all SQLite database files in current directory\"\"\"\n",
    "    databases = []\n",
    "    for file in os.listdir('data'):\n",
    "        if file.endswith('.db'):\n",
    "            databases.append(file)\n",
    "    return databases\n",
    "\n",
    "# Code to list all tables in selected database\n",
    "def list_tables(db_name):\n",
    "    \"\"\"List all tables in specified database\"\"\"\n",
    "    try:\n",
    "        conn = sqlite3.connect(db_name)\n",
    "        cursor = conn.cursor()\n",
    "        \n",
    "        # Query to get all table names\n",
    "        cursor.execute(\"SELECT name FROM sqlite_master WHERE type='table';\")\n",
    "        tables = cursor.fetchall()\n",
    "        \n",
    "        conn.close()\n",
    "        return [table[0] for table in tables]\n",
    "    except sqlite3.Error as e:\n",
    "        print(f\"Error connecting to database: {e}\")\n",
    "        return []\n",
    "\n",
    "# Code to see table content\n",
    "def show_table_content(db_name, table_name):\n",
    "    \"\"\"Show all content of specified table\"\"\"\n",
    "    try:\n",
    "        conn = sqlite3.connect(db_name)\n",
    "        cursor = conn.cursor()\n",
    "        \n",
    "        # Get column names\n",
    "        cursor.execute(f\"PRAGMA table_info({table_name})\")\n",
    "        columns = [col[1] for col in cursor.fetchall()]\n",
    "        \n",
    "        # Get all rows\n",
    "        cursor.execute(f\"SELECT * FROM {table_name}\")\n",
    "        rows = cursor.fetchall()\n",
    "        \n",
    "        conn.close()\n",
    "        return columns, rows\n",
    "    except sqlite3.Error as e:\n",
    "        print(f\"Error reading table: {e}\")\n",
    "        return [], []\n"
   ]
  },
  {
   "cell_type": "code",
   "execution_count": null,
   "metadata": {},
   "outputs": [],
   "source": []
  },
  {
   "cell_type": "code",
   "execution_count": 1,
   "metadata": {},
   "outputs": [
    {
     "name": "stdout",
     "output_type": "stream",
     "text": [
      "The day of tomorrow is: Sunday\n"
     ]
    }
   ],
   "source": [
    "from datetime import datetime, timedelta\n",
    "\n",
    "# Get today's date\n",
    "today = datetime.now()\n",
    "\n",
    "# Calculate tomorrow's date\n",
    "tomorrow = today + timedelta(days=1)\n",
    "\n",
    "# Extract the day name\n",
    "day_of_tomorrow = tomorrow.strftime(\"%A\")\n",
    "\n",
    "print(f\"The day of tomorrow is: {day_of_tomorrow}\")"
   ]
  },
  {
   "cell_type": "code",
   "execution_count": null,
   "metadata": {},
   "outputs": [],
   "source": []
  }
 ],
 "metadata": {
  "kernelspec": {
   "display_name": "base",
   "language": "python",
   "name": "python3"
  },
  "language_info": {
   "codemirror_mode": {
    "name": "ipython",
    "version": 3
   },
   "file_extension": ".py",
   "mimetype": "text/x-python",
   "name": "python",
   "nbconvert_exporter": "python",
   "pygments_lexer": "ipython3",
   "version": "3.11.7"
  }
 },
 "nbformat": 4,
 "nbformat_minor": 2
}
